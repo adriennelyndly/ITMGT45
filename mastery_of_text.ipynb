{
 "cells": [
  {
   "cell_type": "code",
   "execution_count": null,
   "id": "1bcc910c-5b17-48de-94a3-0769ed4d5a42",
   "metadata": {},
   "outputs": [],
   "source": [
    "import urllib.request\n",
    "url = \"https://www.gutenberg.org/cache/epub/10/pg10.txt\"\n",
    "response = urllib.request.urlopen(url)\n",
    "raw_text_bytes = response.read()\n",
    "pg10 = raw_text_bytes.decode('utf-8')"
   ]
  },
  {
   "cell_type": "code",
   "execution_count": 9,
   "id": "31fc6d1f-7384-49f7-a411-ce74d0954536",
   "metadata": {},
   "outputs": [
    {
     "name": "stdout",
     "output_type": "stream",
     "text": [
      "The string has 99968 lines.\n"
     ]
    }
   ],
   "source": [
    "# How many lines does the string have?\n",
    "lines = pg10.splitlines()\n",
    "num_lines = len(lines)\n",
    "print(f\"The string has {num_lines} lines.\")"
   ]
  },
  {
   "cell_type": "code",
   "execution_count": 16,
   "id": "e1ecb059-6623-4385-8225-570efa6b7982",
   "metadata": {},
   "outputs": [
    {
     "name": "stdout",
     "output_type": "stream",
     "text": [
      "The string has 795227 words.\n"
     ]
    }
   ],
   "source": [
    "# How many words does the string have?\n",
    "chars = []\n",
    "\n",
    "for char in pg10:\n",
    "    if char.isalpha() or char.isspace():\n",
    "        chars.append(char)\n",
    "    else:\n",
    "        chars.append(\" \")\n",
    "\n",
    "cleaned_text = \"\".join(chars)\n",
    "\n",
    "words = cleaned_text.split()\n",
    "word_count = len(words)\n",
    "\n",
    "print(f\"The string has {word_count} words.\")"
   ]
  },
  {
   "cell_type": "code",
   "execution_count": 19,
   "id": "d333a3f1-9b1a-45bb-a485-f540f2565436",
   "metadata": {},
   "outputs": [
    {
     "name": "stdout",
     "output_type": "stream",
     "text": [
      "The word 'apostle' appears 47 times.\n"
     ]
    }
   ],
   "source": [
    "# How many times does the word \"apostle\", ignoring capitalization, appear in the string?\n",
    "lowercase_words = [word.lower() for word in words]\n",
    "apostle_count = lowercase_words.count(\"apostle\")\n",
    "\n",
    "print(f\"The word 'apostle' appears {apostle_count} times.\")"
   ]
  },
  {
   "cell_type": "code",
   "execution_count": 21,
   "id": "e5179158-8cc9-4bf0-ab53-37130f211a3a",
   "metadata": {},
   "outputs": [
    {
     "name": "stdout",
     "output_type": "stream",
     "text": [
      "The most common word is 'the' with 64309 occurrences.\n"
     ]
    }
   ],
   "source": [
    "# What is the most common word, ignoring capitalization, in the string?\n",
    "word_counts = {}\n",
    "\n",
    "for word in lowercase_words:\n",
    "    word_counts[word] = word_counts.get(word, 0) + 1\n",
    "\n",
    "most_common_word = max(word_counts, key = word_counts.get)\n",
    "most_common_word_count = word_counts[most_common_word]\n",
    "\n",
    "print(f\"The most common word is '{most_common_word}' with {most_common_word_count} occurrences.\")"
   ]
  }
 ],
 "metadata": {
  "kernelspec": {
   "display_name": "Python [conda env:base] *",
   "language": "python",
   "name": "conda-base-py"
  },
  "language_info": {
   "codemirror_mode": {
    "name": "ipython",
    "version": 3
   },
   "file_extension": ".py",
   "mimetype": "text/x-python",
   "name": "python",
   "nbconvert_exporter": "python",
   "pygments_lexer": "ipython3",
   "version": "3.13.5"
  }
 },
 "nbformat": 4,
 "nbformat_minor": 5
}
